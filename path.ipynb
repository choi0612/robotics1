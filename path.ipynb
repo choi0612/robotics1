{
 "cells": [
  {
   "cell_type": "code",
   "execution_count": 1,
   "metadata": {},
   "outputs": [],
   "source": [
    "import numpy as np\n",
    "from scipy.optimize import minimize\n",
    "from scipy.spatial.transform import Rotation as R\n"
   ]
  },
  {
   "cell_type": "code",
   "execution_count": 2,
   "metadata": {},
   "outputs": [],
   "source": [
    "def rot(k, theta):\n",
    "    return R.from_rotvec(k * theta).as_matrix()"
   ]
  },
  {
   "cell_type": "code",
   "execution_count": 3,
   "metadata": {},
   "outputs": [],
   "source": [
    "def rotm2eul(R):\n",
    "    return R.from_matrix(R).as_euler('zyx', degrees=False)"
   ]
  },
  {
   "cell_type": "code",
   "execution_count": 4,
   "metadata": {},
   "outputs": [],
   "source": [
    "def fwdkin(robot, theta, _ignore_limits = False):\n",
    "    \"\"\"\n",
    "    Computes the pose of the robot tool flange based on a Robot object\n",
    "    and the joint angles.\n",
    "    \n",
    "    :type    robot: Robot\n",
    "    :param   robot: The robot object containing kinematic information\n",
    "    :type    theta: numpy.array\n",
    "    :param   theta: N x 1 array of joint angles. Must have same number of joints as Robot object\n",
    "    :rtype:  Transform\n",
    "    :return: The Pose of the robot tool flange    \n",
    "    \"\"\"    \n",
    "    \n",
    "    if not _ignore_limits:\n",
    "\n",
    "        if (robot.joint_lower_limit is not None and robot.joint_upper_limit is not None):\n",
    "            assert np.greater_equal(theta, robot.joint_lower_limit).all(), \"Specified joints out of range\"\n",
    "            assert np.less_equal(theta, robot.joint_upper_limit).all(), \"Specified joints out of range\"\n",
    "    \n",
    "    p = robot.P[:,[0]]\n",
    "    R = np.identity(3)\n",
    "    for i in xrange(0,len(robot.joint_type)):\n",
    "        if (robot.joint_type[i] == 0 or robot.joint_type[i] == 2):\n",
    "            R = np.matmul(R,rot(robot.H[:,[i]],theta[i]))\n",
    "        elif (robot.joint_type[i] == 1 or robot.joint_type[i] == 3):\n",
    "            p = p + theta[i] * np.matmul(R,robot.H[:,[i]])\n",
    "        p = p + np.matmul(R,robot.P[:,[i+1]])\n",
    "        \n",
    "    p=np.reshape(p,(3,))\n",
    "        \n",
    "    return apply_robot_aux_transforms(robot,Transform(R, p))"
   ]
  },
  {
   "cell_type": "code",
   "execution_count": null,
   "metadata": {},
   "outputs": [],
   "source": [
    "def robotjacobiandef robotjacobian(robot, theta, _ignore_limits = False):\n",
    "    \"\"\"\n",
    "    Computes the Jacobian matrix for the robot tool flange based on a Robot object\n",
    "    and the joint angles.\n",
    "    \n",
    "    :type     robot: Robot\n",
    "    :param    robot: The robot object containing kinematic information\n",
    "    :type     theta: numpy.array\n",
    "    :param    theta: N x 1 array of joint angles in radians or meters as appropriate. Must have same number of joints as Robot object.\n",
    "    :rtype:   numpy.array\n",
    "    :returns: The 6 x N Jacobian matrix    \n",
    "    \"\"\"\n",
    "    \n",
    "    if not _ignore_limits:\n",
    "        if (robot.joint_lower_limit is not None and robot.joint_upper_limit is not None):\n",
    "            assert np.greater_equal(theta, robot.joint_lower_limit).all(), \"Specified joints out of range\"\n",
    "            assert np.less_equal(theta, robot.joint_upper_limit).all(), \"Specified joints out of range\"\n",
    "    \n",
    "    \n",
    "    hi = np.zeros(robot.H.shape)\n",
    "    pOi = np.zeros(robot.P.shape)\n",
    "    \n",
    "    p = robot.P[:,[0]]\n",
    "    R = np.identity(3)\n",
    "    \n",
    "    pOi[:,[0]] = p\n",
    "    \n",
    "    H = robot.H\n",
    "    P = robot.P\n",
    "    joint_type = robot.joint_type\n",
    "    \n",
    "    for i in xrange(0, len(joint_type)):\n",
    "        if (joint_type[i] == 0 or joint_type[i] == 2):\n",
    "            R = np.matmul(R,rot(H[:,[i]],theta[i]))\n",
    "        elif (joint_type[i] == 1 or joint_type[i] == 3):\n",
    "            p = p + theta[i] * np.matmul(R,H[:,[i]])\n",
    "        p = p + np.matmul(R,P[:,[i+1]])\n",
    "        pOi[:,[i+1]] = p\n",
    "        hi[:,[i]] = np.matmul(R,H[:,[i]])\n",
    "    \n",
    "    pOT = pOi[:,[len(joint_type)]]\n",
    "    \n",
    "    R_flange = robot.T_flange.R if (robot.T_flange is not None) else np.eye(3)\n",
    "\n",
    "    if robot.T_flange is not None:\n",
    "        pOT += np.matmul(R,np.reshape(robot.T_flange.p,(3,1)))\n",
    "    if robot.p_tool is not None:\n",
    "        pOT += np.matmul(np.matmul(R,R_flange),np.reshape(robot.p_tool,(3,1)))\n",
    "    \n",
    "    J = np.zeros([6,len(joint_type)])\n",
    "    i = 0\n",
    "    j = 0\n",
    "    while (i < len(joint_type)):\n",
    "        if (joint_type[i] == 0):\n",
    "            J[0:3,[j]] = hi[:,[i]]\n",
    "            J[3:6,[j]] = np.matmul(hat(hi[:,[i]]),(pOT - pOi[:,[i]]))\n",
    "        elif (joint_type[i] == 1):\n",
    "            J[3:6,[j]] = hi[:,[i]]\n",
    "        elif (joint_type[i] == 3):\n",
    "            J[3:6,[j]] = np.matmul(rot(hi[:,[i+2]], theta[i+2]),(hi[:,[i]]))\n",
    "            J[0:3,[j+1]] = hi[:,[i+2]]\n",
    "            J[3:6,[j+1]] = np.matmul(hat(hi[:,[i+2]]),(pOT - pOi[:,[i+2]]))\n",
    "            J = J[:,0:-1]\n",
    "            i = i + 2\n",
    "            j = j + 1\n",
    "        \n",
    "        i = i + 1\n",
    "        j = j + 1\n",
    "\n",
    "    if not robot.T_base:\n",
    "        return J\n",
    "    else:\n",
    "        R_J = np.block([[robot.T_base.R, np.zeros((3,3))],[np.zeros((3,3)), robot.T_base.R]])\n",
    "        return np.matmul(R_J,J)"
   ]
  },
  {
   "cell_type": "code",
   "execution_count": null,
   "metadata": {},
   "outputs": [],
   "source": [
    "def qprimelimits_full(qlimit, qprev, N, qpmax, qpmin):\n",
    "    n = len(qlimit)\n",
    "    lb_js = N * (qlimit[:,0] - qprev)\n",
    "    ub_js = N * (qlimit[:,1] - qprev)\n",
    "    lb = np.maximum(lb_js, qpmin)\n",
    "    ub = np.minimum(ub_js, qpmax)\n",
    "    return lb, ub"
   ]
  },
  {
   "cell_type": "code",
   "execution_count": null,
   "metadata": {},
   "outputs": [],
   "source": [
    "def getqp_H(dq, J, vr, vp, er, ep):\n",
    "    n = len(dq)\n",
    "    H1 = np.dot(np.hstack([J, np.zeros((6,2))]).T, np.hstack([J, np.zeros((6,2))]))\n",
    "    H2 = np.dot(np.hstack([np.zeros((3,n)), vr.reshape(-1,1), np.zeros((3,1))]).T,\n",
    "                np.hstack([np.zeros((3,n)), vr.reshape(-1,1), np.zeros((3,1))]))\n",
    "    H3 = -2 * np.dot(np.hstack([J, np.zeros((6,2))]).T,\n",
    "                     np.hstack([np.zeros((3,n)), vr.reshape(-1,1), np.zeros((3,1))]))\n",
    "    H3 = (H3 + H3.T) / 2\n",
    "    H4 = np.dot(np.array([[np.sqrt(er)], [np.sqrt(ep)]]).T,\n",
    "                np.array([[np.sqrt(er)], [np.sqrt(ep)]]))\n",
    "    H = 2 * (H1 + H2 + H3 + H4)\n",
    "    return H"
   ]
  },
  {
   "cell_type": "code",
   "execution_count": null,
   "metadata": {},
   "outputs": [],
   "source": [
    "def getqp_f(dq, er, ep):\n",
    "    return -2 * np.array([np.zeros(len(dq)), er, ep]).T"
   ]
  },
  {
   "cell_type": "code",
   "execution_count": null,
   "metadata": {},
   "outputs": [],
   "source": [
    "def quadprog(H, f, A, b, Aeq, beq, lb, ub, x0, options):\n",
    "    # Define the objective function\n",
    "    fun = lambda x: 0.5 * np.dot(x.T, np.dot(H, x)) + np.dot(f.T, x)\n",
    "    # Define the constraints\n",
    "    cons = ({'type': 'eq', 'fun': lambda x: np.dot(Aeq, x) - beq},\n",
    "            {'type': 'ineq', 'fun': lambda x: b - np.dot(A, x)})\n",
    "    # Define the bounds\n",
    "    bounds = [(l, u) for l, u in zip(lb, ub)]\n",
    "    # Solve the quadratic program\n",
    "    res = minimize(fun, x0, method='SLSQP', bounds=bounds, constraints=cons, options=options)\n",
    "    return res.x, res.success"
   ]
  },
  {
   "cell_type": "code",
   "execution_count": null,
   "metadata": {},
   "outputs": [],
   "source": [
    "def qpPathGen(robot, q0, P0Td, R0Td, epsilon_r, epsilon_p, q_prime_min, q_prime_max, N):\n",
    "    n = len(q0)\n",
    "    lambda_ = np.linspace(0, 1, N + 1)\n",
    "    options = {'disp': False}\n",
    "    R0T0, P0T0 = fwdkin(robot, q0)\n",
    "    ER0 = np.dot(R0T0, R0Td.T)\n",
    "    k_hat, theta0 = R.from_matrix(ER0).as_rotvec()\n",
    "    Euldes_lambda = np.zeros((3, len(lambda_)))\n",
    "    Pdes_lambda = np.zeros((3, len(lambda_)))\n",
    "    dP0T_dlambda = P0Td - P0T0\n",
    "    der_dlambda = np.zeros(len(lambda_))"
   ]
  },
  {
   "cell_type": "code",
   "execution_count": null,
   "metadata": {},
   "outputs": [],
   "source": [
    "robot = YourRobotClass() # Define your robot\n",
    "q0 = np.array([initial joint states])\n",
    "P0Td = np.array([target position])\n",
    "R0Td = np.array([target orientation])\n",
    "epsilon_r, epsilon_p, q_prime_min, q_prime_max, N = [your parameters]\n",
    "q_lambda, lambda_, P0T_lambda, R0T_lambda = qpPathGen(robot, q0, P0Td, R0Td"
   ]
  }
 ],
 "metadata": {
  "kernelspec": {
   "display_name": "Python 3",
   "language": "python",
   "name": "python3"
  },
  "language_info": {
   "codemirror_mode": {
    "name": "ipython",
    "version": 3
   },
   "file_extension": ".py",
   "mimetype": "text/x-python",
   "name": "python",
   "nbconvert_exporter": "python",
   "pygments_lexer": "ipython3",
   "version": "3.6.9"
  }
 },
 "nbformat": 4,
 "nbformat_minor": 4
}
