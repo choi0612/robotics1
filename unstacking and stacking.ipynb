{
 "cells": [
  {
   "cell_type": "code",
   "execution_count": 1,
   "metadata": {},
   "outputs": [],
   "source": [
    "#!/usr/bin/env python3\n",
    "#coding=utf-8\n",
    "import time\n",
    "from Arm_Lib import Arm_Device\n",
    "\n",
    "Arm = Arm_Device()\n",
    "time.sleep(.1)"
   ]
  },
  {
   "cell_type": "code",
   "execution_count": 2,
   "metadata": {},
   "outputs": [],
   "source": [
    "def arm_clamp_block(enable):\n",
    "    if enable == 0:\n",
    "        Arm.Arm_serial_servo_write(6, 60, 400)\n",
    "    else:\n",
    "        Arm.Arm_serial_servo_write(6, 135, 400)\n",
    "    time.sleep(.5)\n",
    "\n",
    "    \n",
    "def arm_move(p, s_time = 500):\n",
    "    for i in range(5):\n",
    "        id = i + 1\n",
    "        if id == 5:\n",
    "            time.sleep(.1)\n",
    "            Arm.Arm_serial_servo_write(id, p[i], int(s_time*1.2))\n",
    "        else :\n",
    "            Arm.Arm_serial_servo_write(id, p[i], s_time)\n",
    "        time.sleep(.01)\n",
    "    time.sleep(s_time/1000)\n",
    "\n",
    "def arm_move_up():\n",
    "    Arm.Arm_serial_servo_write(2, 90, 1500)\n",
    "    Arm.Arm_serial_servo_write(3, 90, 1500)\n",
    "    Arm.Arm_serial_servo_write(4, 90, 1500)\n",
    "    time.sleep(.1)\n"
   ]
  },
  {
   "cell_type": "code",
   "execution_count": 3,
   "metadata": {},
   "outputs": [],
   "source": [
    "# Define variable parameters at different locations\n",
    "# 定义不同位置的变量参数\n",
    "p_mould = [90, 130, 0, 0, 90]\n",
    "p_top = [90, 80, 50, 50, 270]\n",
    "\n",
    "p_Yellow = [65, 22, 64, 56, 270]\n",
    "p_Red = [117, 19, 66, 56, 270]\n",
    "\n",
    "p_Green = [136, 66, 20, 29, 270]\n",
    "p_Blue = [44, 66, 20, 28, 270]\n",
    "\n",
    "\n",
    "p_layer_4 = [90, 72, 49, 13, 270]\n",
    "p_layer_3 = [90, 66, 43, 20, 270]\n",
    "p_layer_2 = [90, 60, 34, 30, 270]\n",
    "p_layer_1 = [90, 53, 33, 36, 270]\n"
   ]
  },
  {
   "cell_type": "code",
   "execution_count": 4,
   "metadata": {},
   "outputs": [],
   "source": [
    "# Move the manipulator to a position ready for grasping\n",
    "# 让机械臂移动到一个准备抓取的位置\n",
    "arm_clamp_block(0)\n",
    "arm_move(p_mould, 1000)\n",
    "time.sleep(1)\n"
   ]
  },
  {
   "cell_type": "code",
   "execution_count": 5,
   "metadata": {},
   "outputs": [],
   "source": [
    "#Move the manipulator the the fourth floor position to ensure stacking begins at proper location\n",
    "arm_move(p_top, 1000)\n",
    "arm_move(p_layer_4,1000)\n"
   ]
  },
  {
   "cell_type": "code",
   "execution_count": 39,
   "metadata": {},
   "outputs": [],
   "source": [
    "#Test to see if block is successfully grabbed\n",
    "arm_clamp_block(1)"
   ]
  },
  {
   "cell_type": "code",
   "execution_count": 40,
   "metadata": {},
   "outputs": [],
   "source": [
    "# Move the building blocks of the fourth floor to the yellow area\n",
    "# 搬运第四层的积木块到黄色区域\n",
    "arm_move(p_top, 1000)\n",
    "arm_move(p_layer_4, 1000)\n",
    "arm_clamp_block(1)\n",
    "\n",
    "arm_move(p_top, 1000)\n",
    "arm_move(p_Yellow, 1000)\n",
    "arm_clamp_block(0)\n",
    "\n",
    "time.sleep(.1)\n",
    "\n",
    "arm_move_up()\n",
    "arm_move(p_mould, 1100)\n",
    "    \n",
    "# time.sleep(1)\n"
   ]
  },
  {
   "cell_type": "code",
   "execution_count": 41,
   "metadata": {},
   "outputs": [],
   "source": [
    "# Move the building blocks of the third floor to the red area\n",
    "# 搬运第三层的积木块到红色区域\n",
    "arm_move(p_top, 1000)\n",
    "arm_move(p_layer_3, 1000)\n",
    "arm_clamp_block(1)\n",
    "\n",
    "arm_move(p_top, 1000)\n",
    "arm_move(p_Red, 1000)\n",
    "arm_clamp_block(0)\n",
    "\n",
    "time.sleep(.1)\n",
    "\n",
    "arm_move_up()\n",
    "arm_move(p_mould, 1100)\n",
    "    \n",
    "# time.sleep(1)\n"
   ]
  },
  {
   "cell_type": "code",
   "execution_count": 42,
   "metadata": {},
   "outputs": [],
   "source": [
    "# Move the building blocks of the second floor to the green area\n",
    "# 搬运第二层的积木块到绿色区域\n",
    "arm_move(p_top, 1000)\n",
    "arm_move(p_layer_2, 1000)\n",
    "arm_clamp_block(1)\n",
    "\n",
    "arm_move(p_top, 1000)\n",
    "arm_move(p_Green, 1000)\n",
    "arm_clamp_block(0)\n",
    "\n",
    "time.sleep(.1)\n",
    "\n",
    "arm_move_up()\n",
    "arm_move(p_mould, 1100)\n",
    "    \n",
    "# time.sleep(1)\n"
   ]
  },
  {
   "cell_type": "code",
   "execution_count": 43,
   "metadata": {},
   "outputs": [],
   "source": [
    "# Move the building blocks of the first floor to the blue area\n",
    "# 搬运第一层的积木块到蓝色区域\n",
    "arm_move(p_top, 1000)\n",
    "arm_move(p_layer_1, 1000)\n",
    "arm_clamp_block(1)\n",
    "\n",
    "arm_move(p_top, 1000)\n",
    "arm_move(p_Blue, 1000)\n",
    "arm_clamp_block(0)\n",
    "\n",
    "time.sleep(.1)\n",
    "\n",
    "arm_move_up()\n",
    "arm_move(p_mould, 1100)\n",
    "    \n",
    "# time.sleep(1)"
   ]
  },
  {
   "cell_type": "code",
   "execution_count": 44,
   "metadata": {},
   "outputs": [],
   "source": [
    "# move building block from blue area to first floor\n",
    "\n",
    "arm_move(p_mould, 1100)\n",
    "arm_move_up()\n",
    "time.sleep(.1)\n",
    "\n",
    "arm_move(p_Blue, 1000)\n",
    "time.sleep(.1)\n",
    "arm_clamp_block(1)\n",
    "arm_move(p_top, 1000)\n",
    "\n",
    "arm_move(p_layer_1, 1000)\n",
    "time.sleep(.1)\n",
    "arm_clamp_block(0)\n",
    "arm_move(p_top, 1000)\n",
    "\n",
    "\n",
    "\n",
    "\n",
    "\n",
    "\n",
    "\n",
    "\n",
    "\n"
   ]
  },
  {
   "cell_type": "code",
   "execution_count": 45,
   "metadata": {},
   "outputs": [],
   "source": [
    "#move building block from green area to second floor\n",
    "arm_move(p_mould, 1100)\n",
    "arm_move_up()\n",
    "time.sleep(.1)\n",
    "\n",
    "arm_move(p_Green, 1000)\n",
    "time.sleep(.1)\n",
    "arm_clamp_block(1)\n",
    "arm_move(p_top, 1000)\n",
    "\n",
    "arm_move(p_layer_2, 1000)\n",
    "time.sleep(.1)\n",
    "arm_clamp_block(0)\n",
    "arm_move(p_top, 1000)"
   ]
  },
  {
   "cell_type": "code",
   "execution_count": 46,
   "metadata": {},
   "outputs": [],
   "source": [
    "#move building block from Red area to third floor\n",
    "arm_move(p_mould, 1100)\n",
    "arm_move_up()\n",
    "time.sleep(.1)\n",
    "\n",
    "arm_move(p_Red, 1000)\n",
    "time.sleep(.1)\n",
    "arm_clamp_block(1)\n",
    "arm_move(p_top, 1000)\n",
    "\n",
    "arm_move(p_layer_3, 1000)\n",
    "time.sleep(.1)\n",
    "arm_clamp_block(0)\n",
    "arm_move(p_top, 1000)"
   ]
  },
  {
   "cell_type": "code",
   "execution_count": 47,
   "metadata": {},
   "outputs": [],
   "source": [
    "#move building block from Yellow area to fourth floor\n",
    "arm_move(p_mould, 1100)\n",
    "arm_move_up()\n",
    "time.sleep(.1)\n",
    "\n",
    "arm_move(p_Yellow, 1000)\n",
    "time.sleep(.1)\n",
    "arm_clamp_block(1)\n",
    "arm_move(p_top, 1000)\n",
    "\n",
    "arm_move(p_layer_4, 1000)\n",
    "time.sleep(.1)\n",
    "arm_clamp_block(0)\n",
    "arm_move(p_top, 1000)"
   ]
  },
  {
   "cell_type": "code",
   "execution_count": 48,
   "metadata": {},
   "outputs": [],
   "source": [
    "\n",
    "look_for_blocks_top_left = [110, 80, 40, 0, 90, 90]\n",
    "look_for_blocks_bottom_left = [130, 70, 40, 0, 90, 90]\n",
    "look_for_blocks_top_right = [55, 85, 40, 0, 90, 90]\n",
    "look_for_blocks_bottom_right = [55, 80, 30, 0, 90, 90]\n",
    "arm_move(look_for_blocks_top_left, 1100)"
   ]
  },
  {
   "cell_type": "markdown",
   "metadata": {},
   "source": [
    "##### Camera Detection for Block Stacking"
   ]
  },
  {
   "cell_type": "code",
   "execution_count": 49,
   "metadata": {},
   "outputs": [
    {
     "data": {
      "application/vnd.jupyter.widget-view+json": {
       "model_id": "6e290b58730b4ed8899e2a6611054ba6",
       "version_major": 2,
       "version_minor": 0
      },
      "text/plain": [
       "Image(value=b'', format='jpeg', height='500', width='600')"
      ]
     },
     "metadata": {},
     "output_type": "display_data"
    }
   ],
   "source": [
    "import cv2\n",
    "import ipywidgets.widgets as widgets\n",
    "import threading\n",
    "import time\n",
    "import enum\n",
    "\n",
    "image_widget = widgets.Image(format='jpeg', width=600, height=500)  #设置摄像头显示组件 #Set up camera display components\n",
    "display(image_widget)                                               #显示摄像头组件 #Display camera assembly\n",
    "\n"
   ]
  },
  {
   "cell_type": "code",
   "execution_count": 50,
   "metadata": {},
   "outputs": [],
   "source": [
    "#bgr8转jpeg格式 #bgr8 to jpeg format\n",
    "import enum\n",
    "import cv2\n",
    "import numpy as np\n",
    "\n",
    "def bgr8_to_jpeg(value, quality=75):\n",
    "    return bytes(cv2.imencode('.jpg', value)[1])"
   ]
  },
  {
   "cell_type": "code",
   "execution_count": null,
   "metadata": {},
   "outputs": [],
   "source": [
    "image = cv2.VideoCapture(0)                           \n",
    "\n",
    "width=600\n",
    "height=500\n",
    "# cap.set(cv2.CAP_PROP_FRAME_WIDTH,width)\n",
    "# cap.set(cv2.CAP_PROP_FRAME_HEIGHT,height)\n",
    "\n",
    "# image.set(3,600)       \n",
    "# image.set(4,500)\n",
    "# image.set(5, 30)  \n",
    "# image.set(cv2.CAP_PROP_FOURCC, cv2.VideoWriter.fourcc('M', 'J', 'P', 'G'))\n",
    "# image.set(cv2.CAP_PROP_BRIGHTNESS, 40) \n",
    "# image.set(cv2.CAP_PROP_CONTRAST, 50)   \n",
    "# image.set(cv2.CAP_PROP_EXPOSURE, 156)  \n",
    "\n",
    "ret, frame = image.read()    \n",
    "image_widget.value = bgr8_to_jpeg(frame)\n",
    "\n"
   ]
  },
  {
   "cell_type": "code",
   "execution_count": null,
   "metadata": {},
   "outputs": [],
   "source": [
    "image.release()"
   ]
  },
  {
   "cell_type": "code",
   "execution_count": null,
   "metadata": {},
   "outputs": [],
   "source": []
  },
  {
   "cell_type": "code",
   "execution_count": null,
   "metadata": {},
   "outputs": [],
   "source": []
  },
  {
   "cell_type": "code",
   "execution_count": null,
   "metadata": {},
   "outputs": [],
   "source": []
  }
 ],
 "metadata": {
  "kernelspec": {
   "display_name": "Python 3",
   "language": "python",
   "name": "python3"
  },
  "language_info": {
   "codemirror_mode": {
    "name": "ipython",
    "version": 3
   },
   "file_extension": ".py",
   "mimetype": "text/x-python",
   "name": "python",
   "nbconvert_exporter": "python",
   "pygments_lexer": "ipython3",
   "version": "3.6.9"
  }
 },
 "nbformat": 4,
 "nbformat_minor": 4
}
