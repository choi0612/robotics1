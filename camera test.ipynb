{
 "cells": [
  {
   "cell_type": "markdown",
   "metadata": {},
   "source": [
    "<center><img src=\"./logo.png\" alt=\"Header\" style=\"width: 800px;\"/></center>"
   ]
  },
  {
   "cell_type": "code",
   "execution_count": 1,
   "metadata": {},
   "outputs": [
    {
     "data": {
      "application/vnd.jupyter.widget-view+json": {
       "model_id": "c6d75dfe18b346b49b18c7cf323b5a15",
       "version_major": 2,
       "version_minor": 0
      },
      "text/plain": [
       "Image(value=b'', format='jpeg', height='500', width='600')"
      ]
     },
     "metadata": {},
     "output_type": "display_data"
    }
   ],
   "source": [
    "import cv2\n",
    "import ipywidgets.widgets as widgets\n",
    "import threading\n",
    "import time\n",
    "import numpy as np\n",
    "\n",
    "image_widget = widgets.Image(format='jpeg', width=600, height=500)  \n",
    "display(image_widget)                                              "
   ]
  },
  {
   "cell_type": "code",
   "execution_count": 2,
   "metadata": {},
   "outputs": [],
   "source": [
    "#bgr8转jpeg格式 #bgr8 to jpeg format\n",
    "import enum\n",
    "import cv2\n",
    "\n",
    "def bgr8_to_jpeg(value, quality=75):\n",
    "    return bytes(cv2.imencode('.jpg', value)[1])"
   ]
  },
  {
   "cell_type": "code",
   "execution_count": 3,
   "metadata": {},
   "outputs": [],
   "source": [
    "image = cv2.VideoCapture(0)                           \n",
    "\n",
    "width=600\n",
    "height=500\n",
    "\n",
    "ret, frame = image.read()    \n",
    "image_widget.value = bgr8_to_jpeg(frame)\n"
   ]
  },
  {
   "cell_type": "code",
   "execution_count": 4,
   "metadata": {},
   "outputs": [],
   "source": [
    "#!/usr/bin/env python3\n",
    "#coding=utf-8\n",
    "import time\n",
    "from Arm_Lib import Arm_Device\n",
    "\n",
    "Arm = Arm_Device()\n",
    "time.sleep(.1)"
   ]
  },
  {
   "cell_type": "code",
   "execution_count": 5,
   "metadata": {},
   "outputs": [],
   "source": [
    "def arm_clamp_block(enable):\n",
    "    if enable == 0:\n",
    "        Arm.Arm_serial_servo_write(6, 60, 400)\n",
    "    else:\n",
    "        Arm.Arm_serial_servo_write(6, 135, 400)\n",
    "    time.sleep(.5)\n",
    "\n",
    "    \n",
    "def arm_move(p, s_time = 500):\n",
    "    for i in range(5):\n",
    "        id = i + 1\n",
    "        if id == 5:\n",
    "            time.sleep(.1)\n",
    "            Arm.Arm_serial_servo_write(id, p[i], int(s_time*1.2))\n",
    "        else :\n",
    "            Arm.Arm_serial_servo_write(id, p[i], s_time)\n",
    "        time.sleep(.01)\n",
    "    time.sleep(s_time/1000)\n",
    "\n",
    "def arm_move_up():\n",
    "    Arm.Arm_serial_servo_write(2, 90, 1500)\n",
    "    Arm.Arm_serial_servo_write(3, 90, 1500)\n",
    "    Arm.Arm_serial_servo_write(4, 90, 1500)\n",
    "    time.sleep(.1)\n"
   ]
  },
  {
   "cell_type": "code",
   "execution_count": 6,
   "metadata": {},
   "outputs": [],
   "source": [
    "p_mould = [90, 120, 0, 0, 90]\n",
    "arm_clamp_block(0)\n",
    "arm_move(p_mould, 1000)\n",
    "time.sleep(1)\n"
   ]
  },
  {
   "cell_type": "code",
   "execution_count": 7,
   "metadata": {},
   "outputs": [],
   "source": [
    "def update_camera():\n",
    "    while 1:\n",
    "        ret, frame = image.read()\n",
    "        \n",
    "        if ret:\n",
    "            # Convert the frame to HSV color space\n",
    "            hsv = cv2.cvtColor(frame, cv2.COLOR_BGR2HSV)\n",
    "            \n",
    "            color_hsv = {\"red\" : ((160, 43, 46), (180, 255, 255)),\n",
    "                        \"green\" : ((40, 43, 46), (90, 255, 255)),\n",
    "                        \"blue\" : ((100, 43, 46), (130, 255, 255)),\n",
    "                        \"yellow\": ((20, 43, 46), (35, 255, 255))}            \n",
    "            \n",
    "           # Create masks and find contours for each color\n",
    "            for color, (lower, upper) in color_hsv.items():\n",
    "                mask = cv2.inRange(hsv, np.array(lower), np.array(upper))\n",
    "                contours, _ = cv2.findContours(mask, cv2.RETR_TREE, cv2.CHAIN_APPROX_SIMPLE)\n",
    "\n",
    "                # Define rectangle color based on detected color\n",
    "                rect_color = {\n",
    "                    \"red\": (0, 0, 255),\n",
    "                    \"green\": (0, 255, 0),\n",
    "                    \"blue\": (255, 0, 0),\n",
    "                    \"yellow\": (0, 255, 255)\n",
    "                }[color]\n",
    "\n",
    "                # Draw rectangles around detected colors\n",
    "                for contour in contours:\n",
    "                    if cv2.contourArea(contour) > 100:  # Adjust the size threshold as needed\n",
    "                        x, y, w, h = cv2.boundingRect(contour)\n",
    "                        cv2.rectangle(frame, (x, y), (x+w, y+h), rect_color, 2)\n",
    "\n",
    "            # Calculate the center coordinates of the frame\n",
    "            center_x, center_y = int(frame.shape[1] / 2), int(frame.shape[0] / 2)\n",
    "\n",
    "            # Get the HSV value of the center pixel\n",
    "            center_color = hsv[center_y, center_x]\n",
    "\n",
    "            # Display the HSV value on the frame\n",
    "            text = f\"Center HSV: {center_color}\"\n",
    "            cv2.putText(frame, text, (10, 30), cv2.FONT_HERSHEY_SIMPLEX, \n",
    "                        1, (255, 255, 255), 2, cv2.LINE_AA)\n",
    "\n",
    "            image_widget.value = bgr8_to_jpeg(frame)\n",
    "            time.sleep(0.010)\n",
    "            \n",
    "        \n",
    "import threading\n",
    "thread = threading.Thread(target=update_camera)\n",
    "thread.start()\n",
    "\n"
   ]
  },
  {
   "cell_type": "code",
   "execution_count": null,
   "metadata": {},
   "outputs": [],
   "source": []
  },
  {
   "cell_type": "code",
   "execution_count": 8,
   "metadata": {},
   "outputs": [],
   "source": [
    "# #release\n",
    "# #释放\n",
    "# image.release()            \n",
    "# cv2.destroyAllWindows()"
   ]
  },
  {
   "cell_type": "code",
   "execution_count": null,
   "metadata": {},
   "outputs": [],
   "source": []
  }
 ],
 "metadata": {
  "kernelspec": {
   "display_name": "Python 3",
   "language": "python",
   "name": "python3"
  },
  "language_info": {
   "codemirror_mode": {
    "name": "ipython",
    "version": 3
   },
   "file_extension": ".py",
   "mimetype": "text/x-python",
   "name": "python",
   "nbconvert_exporter": "python",
   "pygments_lexer": "ipython3",
   "version": "3.6.9"
  }
 },
 "nbformat": 4,
 "nbformat_minor": 4
}
