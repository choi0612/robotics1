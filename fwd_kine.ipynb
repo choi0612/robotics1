{
 "cells": [
  {
   "cell_type": "code",
   "execution_count": 30,
   "metadata": {},
   "outputs": [],
   "source": [
    "import numpy as np\n",
    "import math"
   ]
  },
  {
   "cell_type": "code",
   "execution_count": 32,
   "metadata": {},
   "outputs": [],
   "source": [
    "def rotz(q):\n",
    "    radq = np.radians(q)\n",
    "    sin = np.sin(radq)\n",
    "    cos = np.cos(radq)\n",
    "    return np.array([[cos,-1*sin, 0], [sin,cos,0],[0,0,1]])\n",
    "\n",
    "def roty(q):\n",
    "    radq = np.radians(q)\n",
    "    sin = np.sin(radq)\n",
    "    cos = np.cos(radq)\n",
    "    return np.array([[cos,0,sin], [0,1,0],[-1*sin,0,cos]])\n",
    "\n",
    "def rotx(q):\n",
    "    radq = np.radians(q)\n",
    "    sin = np.sin(radq)\n",
    "    cos = np.cos(radq)\n",
    "    return np.array([[1,0,0], [0,cos,-1*sin],[0,sin,cos]])"
   ]
  },
  {
   "cell_type": "code",
   "execution_count": 33,
   "metadata": {},
   "outputs": [],
   "source": [
    "def rot(k,theta):\n",
    "    I = np.identity(3)\n",
    "    khat = hat(k)\n",
    "    khat2 = khat.dot(khat)\n",
    "    return I + math.sin(theta)*khat + (1.0 - math.cos(theta))*khat2\n",
    "\n",
    "def hat(k):\n",
    "    \"\"\"\n",
    "    Returns a 3 x 3 cross product matrix for a 3 x 1 vector\n",
    "    \n",
    "             [  0 -k3  k2]\n",
    "     khat =  [ k3   0 -k1]\n",
    "             [-k2  k1   0]\n",
    "    \n",
    "    :type    k: numpy.array\n",
    "    :param   k: 3 x 1 vector\n",
    "    :rtype:  numpy.array\n",
    "    :return: the 3 x 3 cross product matrix    \n",
    "    \"\"\"\n",
    "    \n",
    "    khat=np.zeros((3,3))\n",
    "    khat[0,1]=-k[2]\n",
    "    khat[0,2]=k[1]\n",
    "    khat[1,0]=k[2]\n",
    "    khat[1,2]=-k[0]\n",
    "    khat[2,0]=-k[1]\n",
    "    khat[2,1]=k[0]    \n",
    "    return khat"
   ]
  },
  {
   "cell_type": "code",
   "execution_count": 34,
   "metadata": {},
   "outputs": [],
   "source": [
    "def fwdkin(q):\n",
    "    ex = np.array([[1],[0],[0]])\n",
    "    ey = np.array([[0],[1],[0]])\n",
    "    ez = np.array([[0],[0],[1]])\n",
    "\n",
    "    l0 = 0.061 # base to servo 1\n",
    "    l1 = 0.0435 # servo 1 to servo 2\n",
    "    l2 = 0.08285 # servo 2 to servo 3\n",
    "    l3 = 0.08285 # servo 3 to servo 4\n",
    "    l4 = 0.07385 # servo 4 to servo 5\n",
    "    l5 = 0.05457 # servo 5 to gripper\n",
    "    \n",
    "    P01 = ez * (l0+l1)\n",
    "    P12 = np.zeros([3,1])\n",
    "    P23 = ex * l2\n",
    "    P34 = ez * -l3\n",
    "    P45 = np.zeros([3,1])\n",
    "    P5T = ex * -(l4+l5)\n",
    "    \n",
    "    R01 = rotz(q[0])\n",
    "    R12 = roty(-q[1])\n",
    "    R23 = roty(-q[2])\n",
    "    R34 = roty(-q[3])\n",
    "    R45 = rotx(-q[4])\n",
    "    R5T = np.eye(3)\n",
    "\n",
    "    Rot = R01 @ R12 @ R23 @ R34 @ R45 @ R5T\n",
    "\n",
    "    Pot = P01 + R01 @( P12 + R12 @( P23 + R23 @( P34 + R34 @( P45 + R45@P5T))))\n",
    "\n",
    "    return Rot, Pot\n",
    "    "
   ]
  },
  {
   "cell_type": "code",
   "execution_count": 35,
   "metadata": {},
   "outputs": [
    {
     "name": "stdout",
     "output_type": "stream",
     "text": [
      "[[-5.94134778e-17  6.94658370e-01 -7.19339800e-01]\n",
      " [-9.70295726e-01  1.74024048e-01  1.68053070e-01]\n",
      " [ 2.41921896e-01  6.97972334e-01  6.74024048e-01]] [[9.80201177e-18]\n",
      " [1.60079000e-01]\n",
      " [2.21190665e-01]]\n"
     ]
    }
   ],
   "source": [
    "q_test = [90, 100, 43, 23, 134]\n",
    "Rot, Pot = fwdkin(q_test)\n",
    "print(Rot, Pot)"
   ]
  },
  {
   "cell_type": "code",
   "execution_count": 36,
   "metadata": {},
   "outputs": [],
   "source": [
    "#Code to Move the Robotic Arm and then Measure the Angles\n",
    "\n",
    "\n",
    "import time\n",
    "from Arm_Lib import Arm_Device\n",
    "\n",
    "Arm = Arm_Device()\n",
    "time.sleep(.1)\n",
    "\n",
    "def arm_clamp_block(enable):\n",
    "    if enable == 0:\n",
    "        Arm.Arm_serial_servo_write(6, 60, 400)\n",
    "    else:\n",
    "        Arm.Arm_serial_servo_write(6, 135, 400)\n",
    "    time.sleep(.5)\n",
    "\n",
    "    \n",
    "def arm_move(p, s_time = 500):\n",
    "    for i in range(5):\n",
    "        id = i + 1\n",
    "        if id == 5:\n",
    "            time.sleep(.1)\n",
    "            Arm.Arm_serial_servo_write(id, p[i], int(s_time*1.2))\n",
    "        else :\n",
    "            Arm.Arm_serial_servo_write(id, p[i], s_time)\n",
    "        time.sleep(.01)\n",
    "    time.sleep(s_time/1000)\n",
    "\n",
    "def arm_move_up():\n",
    "    Arm.Arm_serial_servo_write(2, 90, 1500)\n",
    "    Arm.Arm_serial_servo_write(3, 90, 1500)\n",
    "    Arm.Arm_serial_servo_write(4, 90, 1500)\n",
    "    time.sleep(.1)"
   ]
  },
  {
   "cell_type": "code",
   "execution_count": 37,
   "metadata": {},
   "outputs": [],
   "source": [
    "#Define Test Cases to Measure\n",
    "\n",
    "test1 = [90, 90, 90, 90, 90, 90]\n",
    "test2 = [80, 120, 40, 0, 90, 90]\n",
    "test3 = [0, 60, 60, 180, 0, 90]\n",
    "test4 = [100, 60, 50, 90, 0, 90]\n",
    "test5 = [140, 120, 120, 90, 45, 90]"
   ]
  },
  {
   "cell_type": "code",
   "execution_count": 38,
   "metadata": {},
   "outputs": [
    {
     "name": "stdout",
     "output_type": "stream",
     "text": [
      "[[-1.12481984e-32 -1.22464680e-16 -1.00000000e+00]\n",
      " [-1.83697020e-16 -1.00000000e+00  1.22464680e-16]\n",
      " [-1.00000000e+00  1.83697020e-16 -1.12481984e-32]] [[2.37640687e-33]\n",
      " [3.88096694e-17]\n",
      " [3.98620000e-01]]\n"
     ]
    }
   ],
   "source": [
    "#For Each Test Case, Run the block of code to get the calculated Rot and Pot, then measure the actual Rot and Pot after the arm has moved.\n",
    "Rot, Pot = fwdkin(test1)\n",
    "print(Rot, Pot)\n",
    "\n",
    "arm_move(test1, 1100)\n",
    "arm_clamp_block(1)"
   ]
  },
  {
   "cell_type": "code",
   "execution_count": 39,
   "metadata": {},
   "outputs": [
    {
     "name": "stdout",
     "output_type": "stream",
     "text": [
      "[[-1.63175911e-01  5.93911746e-02 -9.84807753e-01]\n",
      " [-9.25416578e-01  3.36824089e-01  1.73648178e-01]\n",
      " [ 3.42020143e-01  9.39692621e-01 -5.75395780e-17]] [[0.01868223]\n",
      " [0.10595221]\n",
      " [0.21018151]]\n"
     ]
    }
   ],
   "source": [
    "Rot, Pot = fwdkin(test2)\n",
    "print(Rot, Pot)\n",
    "\n",
    "arm_move(test2, 1100)\n",
    "arm_clamp_block(1)"
   ]
  },
  {
   "cell_type": "code",
   "execution_count": 40,
   "metadata": {},
   "outputs": [
    {
     "name": "stdout",
     "output_type": "stream",
     "text": [
      "[[ 0.5        0.         0.8660254]\n",
      " [ 0.         1.         0.       ]\n",
      " [-0.8660254  0.         0.5      ]] [[0.0489652 ]\n",
      " [0.        ]\n",
      " [0.32889019]]\n"
     ]
    }
   ],
   "source": [
    "Rot, Pot = fwdkin(test3)\n",
    "print(Rot, Pot)\n",
    "\n",
    "arm_move(test3, 1100)\n",
    "arm_clamp_block(1)"
   ]
  },
  {
   "cell_type": "code",
   "execution_count": 41,
   "metadata": {},
   "outputs": [
    {
     "name": "stdout",
     "output_type": "stream",
     "text": [
      "[[ 0.16317591 -0.98480775 -0.05939117]\n",
      " [-0.92541658 -0.17364818  0.33682409]\n",
      " [-0.34202014  0.         -0.93969262]] [[-0.04166755]\n",
      " [ 0.23630842]\n",
      " [ 0.2485088 ]]\n"
     ]
    }
   ],
   "source": [
    "Rot, Pot = fwdkin(test4)\n",
    "print(Rot, Pot)\n",
    "\n",
    "arm_move(test4, 1100)\n",
    "arm_clamp_block(1)"
   ]
  },
  {
   "cell_type": "code",
   "execution_count": 42,
   "metadata": {},
   "outputs": [
    {
     "name": "stdout",
     "output_type": "stream",
     "text": [
      "[[-0.66341395 -0.18368187 -0.72535709]\n",
      " [ 0.5566704  -0.76893496 -0.31441548]\n",
      " [-0.5        -0.61237244  0.61237244]] [[ 0.17189286]\n",
      " [-0.14423523]\n",
      " [ 0.2818852 ]]\n"
     ]
    }
   ],
   "source": [
    "Rot, Pot = fwdkin(test5)\n",
    "print(Rot, Pot)\n",
    "\n",
    "arm_move(test5, 1100)\n",
    "arm_clamp_block(1)"
   ]
  },
  {
   "cell_type": "code",
   "execution_count": null,
   "metadata": {},
   "outputs": [],
   "source": []
  }
 ],
 "metadata": {
  "kernelspec": {
   "display_name": "Python 3",
   "language": "python",
   "name": "python3"
  },
  "language_info": {
   "codemirror_mode": {
    "name": "ipython",
    "version": 3
   },
   "file_extension": ".py",
   "mimetype": "text/x-python",
   "name": "python",
   "nbconvert_exporter": "python",
   "pygments_lexer": "ipython3",
   "version": "3.6.9"
  }
 },
 "nbformat": 4,
 "nbformat_minor": 4
}
