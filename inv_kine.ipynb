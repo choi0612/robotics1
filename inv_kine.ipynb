{
 "cells": [
  {
   "cell_type": "code",
   "execution_count": 26,
   "metadata": {},
   "outputs": [],
   "source": [
    "import math\n",
    "import numpy as np\n",
    "from fwd_kine import fwdkin\n",
    "import general_robotics_toolbox as rox"
   ]
  },
  {
   "cell_type": "code",
   "execution_count": 27,
   "metadata": {},
   "outputs": [],
   "source": [
    "# import the needed modules (as is used to rename the module for easier referencing)\n",
    "import math\n",
    "import numpy as np\n",
    "import general_robotics_toolbox as rox\n",
    "\n",
    "# define the Jacobian inverse \n",
    "def jacobian_inverse(robot,q0,Rd,Pd,Nmax,alpha,tol):\n",
    "# the inputs are \n",
    "\t# robot: of the Robot class defined in rox. contains rotation axes, position vectors, joint types\n",
    "\t# q0: the initial guess joint angles as a 5x1 numpy array\n",
    "\t# Rd: the desired 3x3 rotation matrix (R_{0T}) as a numpy array\n",
    "\t# Pd: the desired 3x1 position vector (P_{0T}) as a numpy array\n",
    "\t# Nmax: the maximum number of allowed iterations\n",
    "\t# alpha: the update parameter\n",
    "\t# tol: the tolerances for [roll, pitch, yaw, x, y, z] as a 6x1 numpy array\n",
    "\n",
    "    # set up storage space\n",
    "    n = len(q0)\n",
    "    q = np.zeros((n,Nmax+1))\n",
    "    q[:,0] = q0\n",
    "    p0T = np.zeros((3,Nmax+1))\n",
    "    RPY0T = np.zeros((3,Nmax+1))\n",
    "    iternum = 0\n",
    "\n",
    "    # compute the forward kinematics\n",
    "    H = rox.fwdkin(robot,q[:,0])\n",
    "    R = H.R\n",
    "    P = H.p\n",
    "    P = np.array([[P[0]], [P[1]], [P[2]]])\n",
    "\n",
    "    # get the initial error\n",
    "    dR = np.matmul(R, np.transpose(Rd))\n",
    "    r = np.array(rox.R2rpy(dR))[None]\n",
    "    dX = np.concatenate((np.transpose(r), P-Pd))\n",
    "\n",
    "# iterate while any error element is greater than its tolerance\n",
    "    while (np.absolute(dX) > tol).any():\n",
    "\t# stop execution if the maximum number of iterations is exceeded\n",
    "        if iternum < Nmax:\n",
    "\t\t# compute the forward kinematics\n",
    "            H = rox.fwdkin(robot, q[:,iternum])\n",
    "            R = H.R\n",
    "            p0T = H.p\n",
    "            p0T = np.array([[p0T[0]], [p0T[1]], [p0T[2]]])\n",
    "\n",
    "\t\t# compute the error\n",
    "            dR = np.matmul(R , np.transpose(Rd))\n",
    "            r = np.array(rox.R2rpy(dR))[None]\n",
    "            dX = np.concatenate((np.transpose(r), p0T-Pd))\n",
    "\n",
    "\t\t# calculate the Jacobian matrix\n",
    "            Jq = rox.robotjacobian(robot, q[:, iternum])\n",
    "\t\t# compute the update\n",
    "            j = np.matmul(np.linalg.pinv(Jq), dX)\n",
    "\t\t# use the update to generate a new q\n",
    "            q[:, iternum+1] = q[:, iternum] - np.transpose((alpha * j))\n",
    "            iternum = iternum + 1\n",
    "        else:\n",
    "            break\n",
    "\t# return the final estimate of q\n",
    "    return q[:, iternum]"
   ]
  },
  {
   "cell_type": "code",
   "execution_count": 28,
   "metadata": {},
   "outputs": [
    {
     "name": "stdout",
     "output_type": "stream",
     "text": [
      "[29.73487699 45.42039472 79.44555485 25.33934475 39.5331304 ]\n"
     ]
    }
   ],
   "source": [
    "Rd = np.array([ [-0.75, -0.1047, -0.6531], [-0.433, 0.8241, 0.3652], [0.5, 0.5567, -0.6634]])\n",
    "Pd = np.array([[0.2058], [0.1188], [0.1464]])\n",
    "# convert initial guess to radians\n",
    "q0 = np.array(np.transpose([25, 50, 75, 30, 30]))*math.pi/180\n",
    "\n",
    "tol = np.array(np.transpose([[0.02, 0.02, 0.02, 0.001, 0.001, 0.001]]))\n",
    "Nmax = 200\n",
    "alpha = 0.03\n",
    "\n",
    "# Define all the joint lengths [m]\n",
    "l0 = 61 * 10**-3\n",
    "l1 = 43.5 * 10**-3\n",
    "l2 = 82.85 * 10**-3\n",
    "l3 = 82.85 * 10**-3\n",
    "l4 = 73.85 * 10**-3\n",
    "l5 = 54.57 * 10**-3\n",
    "\n",
    "# define the unit vectors\n",
    "ex = np.array([1, 0, 0])\n",
    "ey = np.array([0, 1, 0])\n",
    "ez = np.array([0, 0, 1])\n",
    "\n",
    "# Define the position vectors from i-1 -> i\n",
    "P01 = (l0 + l1) * ez\n",
    "P12 = np.zeros(3)\n",
    "P23 = l2 * ex\n",
    "P34 = -1*l3 * ez\n",
    "P45 = np.zeros(3)\n",
    "P5T = -1*(l4 + l5) * ex\n",
    "\n",
    "# define the class inputs: rotation axes (H), position vectors (P), and joint_type\n",
    "H = np.array([ez, -1*ey, -1*ey, -1*ey, -1*ex]).T\n",
    "P = np.array([P01, P12, P23, P34, P45, P5T]).T\n",
    "joint_type = [0,0,0,0,0]\n",
    "\n",
    "# define the Robot class\n",
    "robot = rox.Robot(H, P, joint_type)\n",
    "\n",
    "# compute the inverse kinematics\n",
    "q = jacobian_inverse(robot,q0,Rd,Pd,Nmax,alpha,tol)\n",
    "# convert solution to degrees\n",
    "q = q * 180 / math.pi\n",
    "print(q)"
   ]
  },
  {
   "cell_type": "code",
   "execution_count": 29,
   "metadata": {},
   "outputs": [],
   "source": [
    "#Code to Move the Robotic Arm and then Measure the Angles\n",
    "\n",
    "\n",
    "import time\n",
    "from Arm_Lib import Arm_Device\n",
    "\n",
    "Arm = Arm_Device()\n",
    "time.sleep(.1)\n",
    "\n",
    "def arm_clamp_block(enable):\n",
    "    if enable == 0:\n",
    "        Arm.Arm_serial_servo_write(6, 60, 400)\n",
    "    else:\n",
    "        Arm.Arm_serial_servo_write(6, 135, 400)\n",
    "    time.sleep(.5)\n",
    "\n",
    "    \n",
    "def arm_move(p, s_time = 500):\n",
    "    for i in range(5):\n",
    "        id = i + 1\n",
    "        if id == 5:\n",
    "            time.sleep(.1)\n",
    "            Arm.Arm_serial_servo_write(id, p[i], int(s_time*1.2))\n",
    "        else :\n",
    "            Arm.Arm_serial_servo_write(id, p[i], s_time)\n",
    "        time.sleep(.01)\n",
    "    time.sleep(s_time/1000)\n",
    "\n",
    "def arm_move_up():\n",
    "    Arm.Arm_serial_servo_write(2, 90, 1500)\n",
    "    Arm.Arm_serial_servo_write(3, 90, 1500)\n",
    "    Arm.Arm_serial_servo_write(4, 90, 1500)\n",
    "    time.sleep(.1)\n",
    "    \n",
    "def readAllActualJointAngles():\n",
    "    q = np.array([Arm.Arm_serial_servo_read(1),Arm.Arm_serial_servo_read(2),Arm.Arm_serial_servo_read(3),Arm.Arm_serial_servo_read(4),Arm.Arm_serial_servo_read(5)])\n",
    "    return q"
   ]
  },
  {
   "cell_type": "code",
   "execution_count": 30,
   "metadata": {},
   "outputs": [
    {
     "name": "stdout",
     "output_type": "stream",
     "text": [
      "[29.73487699 45.42039472 79.44555485 25.33934475 39.5331304 ]\n"
     ]
    }
   ],
   "source": [
    "#Move arm to Desired Position\n",
    "\n",
    "Rd1 = np.array([ [-0.75, -0.1047, -0.6531], [-0.433, 0.8241, 0.3652], [0.5, 0.5567, -0.6634]])\n",
    "Pd1 = np.array([[0.2058], [0.1188], [0.1464]])\n",
    "# convert initial guess to radians\n",
    "q01 = np.array(np.transpose([25, 50, 75, 30, 30]))*math.pi/180\n",
    "\n",
    "q1 = jacobian_inverse(robot,q01,Rd1,Pd1,Nmax,alpha,tol)\n",
    "# convert solution to degrees\n",
    "q1 = q1 * 180 / math.pi\n",
    "print(q1)"
   ]
  },
  {
   "cell_type": "code",
   "execution_count": 31,
   "metadata": {},
   "outputs": [
    {
     "name": "stdout",
     "output_type": "stream",
     "text": [
      "[29.73487699 45.42039472 79.44555485 25.33934475 39.5331304 ]\n",
      "[30 44 79 26 41]\n"
     ]
    }
   ],
   "source": [
    "arm_move(q1)\n",
    "q_actual = readAllActualJointAngles()\n",
    "print(q1)\n",
    "print(q_actual)"
   ]
  },
  {
   "cell_type": "code",
   "execution_count": null,
   "metadata": {},
   "outputs": [],
   "source": []
  }
 ],
 "metadata": {
  "kernelspec": {
   "display_name": "Python 3",
   "language": "python",
   "name": "python3"
  },
  "language_info": {
   "codemirror_mode": {
    "name": "ipython",
    "version": 3
   },
   "file_extension": ".py",
   "mimetype": "text/x-python",
   "name": "python",
   "nbconvert_exporter": "python",
   "pygments_lexer": "ipython3",
   "version": "3.6.9"
  }
 },
 "nbformat": 4,
 "nbformat_minor": 4
}
